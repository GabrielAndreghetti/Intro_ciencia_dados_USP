{
  "cells": [
    {
      "cell_type": "markdown",
      "metadata": {
        "id": "gkjYMF3lBbF_"
      },
      "source": [
        "# SCC-ICMC-USP - 2o. semestre de 2024\n",
        "# SCC0275 - Introdução a Ciencia de Dados\n",
        "# EXERCÍCIO No. 1\n",
        "### Profa. Roseli A. F. Romero\n",
        "\n",
        "### Monitor:\n",
        "\n",
        "Nro do grupo:\n",
        "\n",
        "Alunos:\n",
        "\n",
        "\n",
        "1.   List item\n",
        "2.   List item\n"
      ]
    },
    {
      "cell_type": "markdown",
      "metadata": {
        "id": "cqM1EZaZFei-"
      },
      "source": []
    },
    {
      "cell_type": "code",
      "execution_count": null,
      "metadata": {},
      "outputs": [],
      "source": [
        "pip install pandas"
      ]
    },
    {
      "cell_type": "code",
      "execution_count": null,
      "metadata": {},
      "outputs": [],
      "source": [
        "pip install matplotlib"
      ]
    },
    {
      "cell_type": "code",
      "execution_count": null,
      "metadata": {},
      "outputs": [],
      "source": [
        "pip install scipy"
      ]
    },
    {
      "cell_type": "code",
      "execution_count": 7,
      "metadata": {
        "colab": {
          "base_uri": "https://localhost:8080/"
        },
        "id": "hxcCo3MOLE92",
        "outputId": "55dc1605-21fe-49db-abf7-8fadaa899a12"
      },
      "outputs": [],
      "source": [
        "import pandas as pd\n",
        "import matplotlib.pyplot as plt\n",
        "import numpy as np\n",
        "from scipy import stats"
      ]
    },
    {
      "cell_type": "markdown",
      "metadata": {
        "id": "7NZTr10_F5kc"
      },
      "source": [
        " 1- Definir uma lista, x,  de 11 números qualquer de numeros inteiros. Transformar a lista x, num dataframe, y, e exibir o boxplot desses dados.\n",
        "\n",
        "> Bloco com recuo\n",
        "\n"
      ]
    },
    {
      "cell_type": "code",
      "execution_count": null,
      "metadata": {
        "colab": {
          "base_uri": "https://localhost:8080/"
        },
        "id": "XBlBJHt3G0fv",
        "outputId": "674a8027-6692-4c4c-c552-632560cbc9da"
      },
      "outputs": [],
      "source": [
        "x = [9, 11, 23, 25, 41, 94, 67, 55, 32, 29, 43]\n",
        "np.size(x)"
      ]
    },
    {
      "cell_type": "markdown",
      "metadata": {
        "id": "XC7NqkqlGUzI"
      },
      "source": [
        "2 - Usando o numpy determine o tamanho da lista x. Imprima o tamanho."
      ]
    },
    {
      "cell_type": "markdown",
      "metadata": {
        "id": "sfyplP0bNOMX"
      },
      "source": [
        "3 - Usar o comando shape para verificar o formato de x e y."
      ]
    },
    {
      "cell_type": "markdown",
      "metadata": {
        "id": "KOcjdglBNghm"
      },
      "source": [
        "4 - Faça o histograma de y."
      ]
    },
    {
      "cell_type": "markdown",
      "metadata": {
        "id": "mGxYFZmnNoig"
      },
      "source": [
        "5 - Imprimir o maior valor e o  menor valor de y."
      ]
    },
    {
      "cell_type": "markdown",
      "metadata": {
        "id": "NN-yUjS2N2Ho"
      },
      "source": [
        "6 - Imprimir a soma dos valores de y."
      ]
    },
    {
      "cell_type": "markdown",
      "metadata": {
        "id": "Kpj_MJIEOqjb"
      },
      "source": [
        "7 - Fazer o boxplor de y na horizontal, lembrando que o default é na vertical."
      ]
    },
    {
      "cell_type": "markdown",
      "metadata": {
        "id": "ULkw-4PPPZ7D"
      },
      "source": [
        "8 - Exiba o no. de elementos, todos os 3 quartis, média, desvio-padrao, menor e maior do conjunto de dados.\n",
        "Utilize para isso o comando describe()."
      ]
    },
    {
      "cell_type": "markdown",
      "metadata": {
        "id": "D7DMJAZzPrBp"
      },
      "source": [
        "9 - Exibir a média e a variância de y, usando o numpy."
      ]
    },
    {
      "cell_type": "markdown",
      "metadata": {
        "id": "dg4rkr7sRhnI"
      },
      "source": [
        "10 - Exibir o 3o. e 4o. momento de y, usando o stats.skew e stats.kurtosis, respectivamente."
      ]
    },
    {
      "cell_type": "markdown",
      "metadata": {
        "id": "kA7r6yH8Szpp"
      },
      "source": [
        "11 - Definir uma matriz de tamanho 2 x 4. Nomear as linhas: Aluno1 e Aluno 2 e as colunas como: nota1, nota2, nota3, nota 4. Para isso, criar um DataFrame correspondente."
      ]
    },
    {
      "cell_type": "markdown",
      "metadata": {
        "id": "20ixWJ0KT27A"
      },
      "source": [
        "12 - Exibir o boxplot de ambos os alunos no mesmo gráfico."
      ]
    },
    {
      "cell_type": "markdown",
      "metadata": {
        "id": "uNt4FAqlV-Nj"
      },
      "source": []
    },
    {
      "cell_type": "code",
      "execution_count": null,
      "metadata": {
        "id": "_HNcrsxUPuzL"
      },
      "outputs": [],
      "source": []
    },
    {
      "cell_type": "markdown",
      "metadata": {
        "id": "1M7Xvyh0p8f5"
      },
      "source": [
        "## Dados multidimensionais\n",
        "\n",
        "#### 13. Importe as bibliotecas Numpy e Pandas e carregue o conjunto de dados Iris\n",
        "\n"
      ]
    },
    {
      "cell_type": "markdown",
      "metadata": {
        "id": "FpaB6u7dqXa5"
      },
      "source": [
        "### [Sobre o Iris ](https://pt.wikipedia.org/wiki/Conjunto_de_dados_flor_Iris)\n",
        "O conjunto de dados consiste em amostras de três espécies de flores Iris ( Iris setosa, Iris virginica e Iris versicolor). Quatro atributos foram medidos em cada amostra: o comprimento e a largura das sépalas e pétalas, em centímetros.\n",
        "\n",
        "A estrutura das variáveis no arquivo é:\n",
        "\n",
        "1. comprimento sépala em cm\n",
        "2. largura sépala em cm\n",
        "3. comprimento da pétala em cm\n",
        "4. largura da pétala em cm\n",
        "5. classe:\n",
        "  - Iris Setosa\n",
        "  - Iris Versicolour\n",
        "  - Iris Virginica"
      ]
    },
    {
      "cell_type": "markdown",
      "metadata": {
        "id": "1B9BsWhIsmgg"
      },
      "source": [
        "### 14. Coloque nomes nas colunas do DataFrame de acordo com a descrição acima"
      ]
    },
    {
      "cell_type": "markdown",
      "metadata": {
        "id": "PRwETVrfs9BP"
      },
      "source": [
        "### 15. Usando Pandas, gere um histograma dos valores para cada um dos atributos (colunas)\n",
        "\n"
      ]
    },
    {
      "cell_type": "markdown",
      "metadata": {
        "id": "X_bHuB2GtnKE"
      },
      "source": [
        "### 16. Todas as medições foram feitas em cm, crie uma nova coluna para cada atributo com seus valores em milímetros"
      ]
    },
    {
      "cell_type": "markdown",
      "metadata": {
        "id": "7OpjoytyuHxJ"
      },
      "source": [
        "### 17.  Conte o número de amostras por classe, retorne uma lista com 3 elementos com a contagem de cada classe. Usar o unique do pandas.\n"
      ]
    },
    {
      "cell_type": "markdown",
      "metadata": {
        "id": "_jBX26yTut9N"
      },
      "source": [
        "### 18. Dado um atributo, printe qual classe possui o maior e menor valor. Exemplo (não necessáriamente correto): \"A classe Iris-Setosa possui a menor medição de largura de sépala.\""
      ]
    },
    {
      "cell_type": "markdown",
      "metadata": {
        "id": "cO_ohkaqibng"
      },
      "source": [
        "### 19. Calcule os valores do 3 quartis para cada um dos atributos."
      ]
    },
    {
      "cell_type": "markdown",
      "metadata": {
        "id": "4C-0KMR6iqkt"
      },
      "source": [
        "### 20. Calcule as medidas de media, variancia, obliquidade e kurtosi para cada um dos atributos.\n"
      ]
    }
  ],
  "metadata": {
    "colab": {
      "provenance": []
    },
    "kernelspec": {
      "display_name": "Python 3",
      "name": "python3"
    },
    "language_info": {
      "codemirror_mode": {
        "name": "ipython",
        "version": 3
      },
      "file_extension": ".py",
      "mimetype": "text/x-python",
      "name": "python",
      "nbconvert_exporter": "python",
      "pygments_lexer": "ipython3",
      "version": "3.8.10"
    }
  },
  "nbformat": 4,
  "nbformat_minor": 0
}
